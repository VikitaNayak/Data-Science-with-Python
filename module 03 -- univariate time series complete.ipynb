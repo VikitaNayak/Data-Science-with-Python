{
 "cells": [
  {
   "cell_type": "markdown",
   "metadata": {},
   "source": [
    "# Univariate Time Series"
   ]
  },
  {
   "cell_type": "markdown",
   "metadata": {},
   "source": [
    "<b>Definition</b> from <a href='https://onlinecourses.science.psu.edu/stat510/node/47'>here</a>: <i>a sequence of measurements of the same variable collected over time</i>. Examples: stock prices, demand, housing prices."
   ]
  },
  {
   "cell_type": "markdown",
   "metadata": {},
   "source": [
    "In pandas a univariate time series is a Series object where the index is a \"timestamp\"."
   ]
  },
  {
   "cell_type": "markdown",
   "metadata": {},
   "source": [
    "## Stock prices"
   ]
  },
  {
   "cell_type": "markdown",
   "metadata": {},
   "source": [
    "Our goal is to create a Series object <i>stock</i> with the Google stock closing price."
   ]
  },
  {
   "cell_type": "markdown",
   "metadata": {},
   "source": [
    "<b>Stock History info:</b> You can get the Google stock historical price data from https://finance.yahoo.com/quote/GOOGL/history?p=GOOGL\n",
    "In 'Historical Data' tab, set the 'Time Period' to Max, then 'Apply', then 'Download Data'. A .csv file will be downloaded into your local computer. Rename the file to **GOOGL.csv**"
   ]
  },
  {
   "cell_type": "code",
   "execution_count": 15,
   "metadata": {},
   "outputs": [],
   "source": [
    "# print all the outputs in a cell\n",
    "from IPython.core.interactiveshell import InteractiveShell\n",
    "InteractiveShell.ast_node_interactivity = \"all\""
   ]
  },
  {
   "cell_type": "markdown",
   "metadata": {},
   "source": [
    "The following code creates a Series object <i>stock</i> based on GOOGL.csv file. Index is the date and the variable is the Google stock closing prices. "
   ]
  },
  {
   "cell_type": "code",
   "execution_count": 1,
   "metadata": {},
   "outputs": [],
   "source": [
    "import pandas as pd\n",
    "import numpy as np\n",
    "data = pd.read_csv('GOOGL.csv',index_col=0, parse_dates=True)\n",
    "#or use the following two lines\n",
    "#data = pd.read_csv('GOOGL.csv',index_col=0)\n",
    "#data.index=data.index.astype(np.datetime64)\n",
    "stock = data['Close']"
   ]
  },
  {
   "cell_type": "code",
   "execution_count": 2,
   "metadata": {},
   "outputs": [
    {
     "data": {
      "text/plain": [
       "count    3437.000000\n",
       "mean      411.004985\n",
       "std       260.228205\n",
       "min        50.055054\n",
       "25%       231.066071\n",
       "50%       300.425415\n",
       "75%       563.390015\n",
       "max      1187.560059\n",
       "Name: Close, dtype: float64"
      ]
     },
     "execution_count": 2,
     "metadata": {},
     "output_type": "execute_result"
    }
   ],
   "source": [
    "stock.describe()"
   ]
  },
  {
   "cell_type": "code",
   "execution_count": 3,
   "metadata": {
    "scrolled": true
   },
   "outputs": [
    {
     "data": {
      "text/plain": [
       "DatetimeIndex(['2004-08-19', '2004-08-20', '2004-08-23', '2004-08-24',\n",
       "               '2004-08-25', '2004-08-26', '2004-08-27', '2004-08-30',\n",
       "               '2004-08-31', '2004-09-01',\n",
       "               ...\n",
       "               '2018-04-02', '2018-04-03', '2018-04-04', '2018-04-05',\n",
       "               '2018-04-06', '2018-04-09', '2018-04-10', '2018-04-11',\n",
       "               '2018-04-12', '2018-04-13'],\n",
       "              dtype='datetime64[ns]', name='Date', length=3437, freq=None)"
      ]
     },
     "execution_count": 3,
     "metadata": {},
     "output_type": "execute_result"
    }
   ],
   "source": [
    "stock.index"
   ]
  },
  {
   "cell_type": "code",
   "execution_count": 5,
   "metadata": {},
   "outputs": [
    {
     "data": {
      "text/plain": [
       "array([  50.220219,   54.209209,   54.754753, ..., 1025.060059,\n",
       "       1037.290039, 1036.040039])"
      ]
     },
     "execution_count": 5,
     "metadata": {},
     "output_type": "execute_result"
    }
   ],
   "source": [
    "stock.values"
   ]
  },
  {
   "cell_type": "markdown",
   "metadata": {},
   "source": [
    "The following command will plot the stock price"
   ]
  },
  {
   "cell_type": "code",
   "execution_count": 6,
   "metadata": {},
   "outputs": [
    {
     "name": "stdout",
     "output_type": "stream",
     "text": [
      "Populating the interactive namespace from numpy and matplotlib\n"
     ]
    },
    {
     "data": {
      "text/plain": [
       "<matplotlib.axes._subplots.AxesSubplot at 0x114da2668>"
      ]
     },
     "execution_count": 6,
     "metadata": {},
     "output_type": "execute_result"
    },
    {
     "data": {
      "image/png": "[encoded data removed]",
      "text/plain": [
       "<matplotlib.figure.Figure at 0x10f187438>"
      ]
     },
     "metadata": {},
     "output_type": "display_data"
    }
   ],
   "source": [
    "%pylab inline\n",
    "stock.plot()"
   ]
  },
  {
   "cell_type": "markdown",
   "metadata": {},
   "source": [
    "## Exploring a Time Series"
   ]
  },
  {
   "cell_type": "markdown",
   "metadata": {},
   "source": [
    "This Series object has one entry for each trading day. The index (of type <i>datetime64</i>) is the day and the value (of type <i>float64</i>) is the closing price."
   ]
  },
  {
   "cell_type": "markdown",
   "metadata": {},
   "source": [
    "Let's take a look at the first 10 days of data"
   ]
  },
  {
   "cell_type": "code",
   "execution_count": 6,
   "metadata": {},
   "outputs": [
    {
     "data": {
      "text/plain": [
       "Date\n",
       "2004-08-19    50.220219\n",
       "2004-08-20    54.209209\n",
       "2004-08-23    54.754753\n",
       "2004-08-24    52.487488\n",
       "2004-08-25    53.053055\n",
       "2004-08-26    54.009010\n",
       "2004-08-27    53.128128\n",
       "2004-08-30    51.056057\n",
       "2004-08-31    51.236237\n",
       "2004-09-01    50.175175\n",
       "Name: Close, dtype: float64"
      ]
     },
     "execution_count": 6,
     "metadata": {},
     "output_type": "execute_result"
    }
   ],
   "source": [
    "stock.head(10)"
   ]
  },
  {
   "cell_type": "markdown",
   "metadata": {},
   "source": [
    "Let's take a look at the last 10 days of data"
   ]
  },
  {
   "cell_type": "code",
   "execution_count": 7,
   "metadata": {},
   "outputs": [
    {
     "data": {
      "text/plain": [
       "Date\n",
       "2018-04-02    1012.630005\n",
       "2018-04-03    1018.679993\n",
       "2018-04-04    1029.709961\n",
       "2018-04-05    1032.640015\n",
       "2018-04-06    1009.950012\n",
       "2018-04-09    1020.090027\n",
       "2018-04-10    1036.500000\n",
       "2018-04-11    1025.060059\n",
       "2018-04-12    1037.290039\n",
       "2018-04-13    1036.040039\n",
       "Name: Close, dtype: float64"
      ]
     },
     "execution_count": 7,
     "metadata": {},
     "output_type": "execute_result"
    }
   ],
   "source": [
    "stock.tail(10)"
   ]
  },
  {
   "cell_type": "code",
   "execution_count": 8,
   "metadata": {},
   "outputs": [
    {
     "data": {
      "text/plain": [
       "DatetimeIndex(['2004-08-19', '2004-08-20', '2004-08-23', '2004-08-24',\n",
       "               '2004-08-25', '2004-08-26', '2004-08-27', '2004-08-30',\n",
       "               '2004-08-31', '2004-09-01'],\n",
       "              dtype='datetime64[ns]', name='Date', freq=None)"
      ]
     },
     "execution_count": 8,
     "metadata": {},
     "output_type": "execute_result"
    }
   ],
   "source": [
    "stock.index[:10]"
   ]
  },
  {
   "cell_type": "code",
   "execution_count": 9,
   "metadata": {},
   "outputs": [
    {
     "data": {
      "text/plain": [
       "3437"
      ]
     },
     "execution_count": 9,
     "metadata": {},
     "output_type": "execute_result"
    }
   ],
   "source": [
    "len(stock)"
   ]
  },
  {
   "cell_type": "markdown",
   "metadata": {},
   "source": [
    "## Questions"
   ]
  },
  {
   "cell_type": "markdown",
   "metadata": {},
   "source": [
    "Answer these questions without using for loops."
   ]
  },
  {
   "cell_type": "markdown",
   "metadata": {},
   "source": [
    "<b>Question 1</b><br/>What day had the largest stock price? "
   ]
  },
  {
   "cell_type": "code",
   "execution_count": 10,
   "metadata": {},
   "outputs": [
    {
     "data": {
      "text/plain": [
       "Date\n",
       "2018-01-26    1187.560059\n",
       "Name: Close, dtype: float64"
      ]
     },
     "execution_count": 10,
     "metadata": {},
     "output_type": "execute_result"
    }
   ],
   "source": [
    "stock.nlargest(1)"
   ]
  },
  {
   "cell_type": "markdown",
   "metadata": {},
   "source": [
    "<b>Question 2</b><br/>What are the 10 days with largest stock price? Report both the day and the price."
   ]
  },
  {
   "cell_type": "code",
   "execution_count": 11,
   "metadata": {},
   "outputs": [
    {
     "data": {
      "text/plain": [
       "Date\n",
       "2018-01-26    1187.560059\n",
       "2018-01-29    1186.479980\n",
       "2018-01-31    1182.219971\n",
       "2018-01-25    1182.140015\n",
       "2018-02-01    1181.589966\n",
       "2018-01-30    1177.369995\n",
       "2018-01-23    1176.170044\n",
       "2018-01-24    1171.290039\n",
       "2018-03-12    1165.930054\n",
       "2018-01-22    1164.160034\n",
       "Name: Close, dtype: float64"
      ]
     },
     "execution_count": 11,
     "metadata": {},
     "output_type": "execute_result"
    }
   ],
   "source": [
    "stock.nlargest(10)"
   ]
  },
  {
   "cell_type": "markdown",
   "metadata": {},
   "source": [
    "<b>Question 3</b><br/>How much profit (%) would we have made if we had bought at the beginning and sold everything on the last day? Do not type in any date."
   ]
  },
  {
   "cell_type": "code",
   "execution_count": 12,
   "metadata": {},
   "outputs": [
    {
     "data": {
      "text/plain": [
       "19.629938690629764"
      ]
     },
     "execution_count": 12,
     "metadata": {},
     "output_type": "execute_result"
    }
   ],
   "source": [
    "(stock.values[-1] - stock.values[0] ) / stock.values[0]"
   ]
  },
  {
   "cell_type": "markdown",
   "metadata": {},
   "source": [
    "<b>Question 4</b><br/>\n",
    "What is the moving average of the price at each trading session? Use a 50-trading-days window. <i>Hint</i>: Explore the method <i>rolling</i>"
   ]
  },
  {
   "cell_type": "code",
   "execution_count": 13,
   "metadata": {},
   "outputs": [],
   "source": [
    "rol = stock.rolling(50)"
   ]
  },
  {
   "cell_type": "code",
   "execution_count": 14,
   "metadata": {},
   "outputs": [
    {
     "data": {
      "text/plain": [
       "pandas.core.window.Rolling"
      ]
     },
     "execution_count": 14,
     "metadata": {},
     "output_type": "execute_result"
    }
   ],
   "source": [
    "type(rol)"
   ]
  },
  {
   "cell_type": "code",
   "execution_count": 15,
   "metadata": {},
   "outputs": [
    {
     "data": {
      "text/plain": [
       "63.58698695999998"
      ]
     },
     "execution_count": 15,
     "metadata": {},
     "output_type": "execute_result"
    }
   ],
   "source": [
    "stock[:50].mean()"
   ]
  },
  {
   "cell_type": "code",
   "execution_count": 16,
   "metadata": {},
   "outputs": [
    {
     "data": {
      "text/plain": [
       "Date\n",
       "2004-08-19            NaN\n",
       "2004-08-20            NaN\n",
       "2004-08-23            NaN\n",
       "2004-08-24            NaN\n",
       "2004-08-25            NaN\n",
       "2004-08-26            NaN\n",
       "2004-08-27            NaN\n",
       "2004-08-30            NaN\n",
       "2004-08-31            NaN\n",
       "2004-09-01            NaN\n",
       "2004-09-02            NaN\n",
       "2004-09-03            NaN\n",
       "2004-09-07            NaN\n",
       "2004-09-08            NaN\n",
       "2004-09-09            NaN\n",
       "2004-09-10            NaN\n",
       "2004-09-13            NaN\n",
       "2004-09-14            NaN\n",
       "2004-09-15            NaN\n",
       "2004-09-16            NaN\n",
       "2004-09-17            NaN\n",
       "2004-09-20            NaN\n",
       "2004-09-21            NaN\n",
       "2004-09-22            NaN\n",
       "2004-09-23            NaN\n",
       "2004-09-24            NaN\n",
       "2004-09-27            NaN\n",
       "2004-09-28            NaN\n",
       "2004-09-29            NaN\n",
       "2004-09-30            NaN\n",
       "                 ...     \n",
       "2018-03-02    1107.140004\n",
       "2018-03-05    1107.439603\n",
       "2018-03-06    1107.986403\n",
       "2018-03-07    1108.870204\n",
       "2018-03-08    1110.080604\n",
       "2018-03-09    1111.980404\n",
       "2018-03-12    1114.095006\n",
       "2018-03-13    1115.774208\n",
       "2018-03-14    1117.684008\n",
       "2018-03-15    1119.232008\n",
       "2018-03-16    1120.090009\n",
       "2018-03-19    1120.176207\n",
       "2018-03-20    1119.886408\n",
       "2018-03-21    1119.482208\n",
       "2018-03-22    1118.289408\n",
       "2018-03-23    1116.617609\n",
       "2018-03-26    1115.458407\n",
       "2018-03-27    1112.984207\n",
       "2018-03-28    1110.473807\n",
       "2018-03-29    1108.434608\n",
       "2018-04-02    1105.967809\n",
       "2018-04-03    1103.471409\n",
       "2018-04-04    1100.782407\n",
       "2018-04-05    1097.911807\n",
       "2018-04-06    1094.685006\n",
       "2018-04-09    1091.444006\n",
       "2018-04-10    1088.422805\n",
       "2018-04-11    1085.194407\n",
       "2018-04-12    1082.392808\n",
       "2018-04-13    1079.469209\n",
       "Name: Close, Length: 3437, dtype: float64"
      ]
     },
     "execution_count": 16,
     "metadata": {},
     "output_type": "execute_result"
    }
   ],
   "source": [
    "rol.mean()"
   ]
  },
  {
   "cell_type": "markdown",
   "metadata": {},
   "source": [
    "Set maximum display row to 100"
   ]
  },
  {
   "cell_type": "code",
   "execution_count": 17,
   "metadata": {},
   "outputs": [],
   "source": [
    "pd.set_option('display.max_rows', 100)"
   ]
  },
  {
   "cell_type": "code",
   "execution_count": 18,
   "metadata": {},
   "outputs": [
    {
     "data": {
      "text/plain": [
       "Date\n",
       "2004-08-19            NaN\n",
       "2004-08-20            NaN\n",
       "2004-08-23            NaN\n",
       "2004-08-24            NaN\n",
       "2004-08-25            NaN\n",
       "2004-08-26            NaN\n",
       "2004-08-27            NaN\n",
       "2004-08-30            NaN\n",
       "2004-08-31            NaN\n",
       "2004-09-01            NaN\n",
       "2004-09-02            NaN\n",
       "2004-09-03            NaN\n",
       "2004-09-07            NaN\n",
       "2004-09-08            NaN\n",
       "2004-09-09            NaN\n",
       "2004-09-10            NaN\n",
       "2004-09-13            NaN\n",
       "2004-09-14            NaN\n",
       "2004-09-15            NaN\n",
       "2004-09-16            NaN\n",
       "2004-09-17            NaN\n",
       "2004-09-20            NaN\n",
       "2004-09-21            NaN\n",
       "2004-09-22            NaN\n",
       "2004-09-23            NaN\n",
       "2004-09-24            NaN\n",
       "2004-09-27            NaN\n",
       "2004-09-28            NaN\n",
       "2004-09-29            NaN\n",
       "2004-09-30            NaN\n",
       "2004-10-01            NaN\n",
       "2004-10-04            NaN\n",
       "2004-10-05            NaN\n",
       "2004-10-06            NaN\n",
       "2004-10-07            NaN\n",
       "2004-10-08            NaN\n",
       "2004-10-11            NaN\n",
       "2004-10-12            NaN\n",
       "2004-10-13            NaN\n",
       "2004-10-14            NaN\n",
       "2004-10-15            NaN\n",
       "2004-10-18            NaN\n",
       "2004-10-19            NaN\n",
       "2004-10-20            NaN\n",
       "2004-10-21            NaN\n",
       "2004-10-22            NaN\n",
       "2004-10-25            NaN\n",
       "2004-10-26            NaN\n",
       "2004-10-27            NaN\n",
       "2004-10-28      63.586987\n",
       "                 ...     \n",
       "2018-02-01    1091.789402\n",
       "2018-02-02    1093.480200\n",
       "2018-02-05    1093.722000\n",
       "2018-02-06    1094.372200\n",
       "2018-02-07    1094.350000\n",
       "2018-02-08    1093.064000\n",
       "2018-02-09    1092.723600\n",
       "2018-02-12    1093.067201\n",
       "2018-02-13    1093.426600\n",
       "2018-02-14    1094.379201\n",
       "2018-02-15    1095.969000\n",
       "2018-02-16    1097.487001\n",
       "2018-02-20    1098.904401\n",
       "2018-02-21    1100.288002\n",
       "2018-02-22    1101.498402\n",
       "2018-02-23    1103.020802\n",
       "2018-02-26    1104.919401\n",
       "2018-02-27    1106.241801\n",
       "2018-02-28    1107.170802\n",
       "2018-03-01    1107.159003\n",
       "2018-03-02    1107.140004\n",
       "2018-03-05    1107.439603\n",
       "2018-03-06    1107.986403\n",
       "2018-03-07    1108.870204\n",
       "2018-03-08    1110.080604\n",
       "2018-03-09    1111.980404\n",
       "2018-03-12    1114.095006\n",
       "2018-03-13    1115.774208\n",
       "2018-03-14    1117.684008\n",
       "2018-03-15    1119.232008\n",
       "2018-03-16    1120.090009\n",
       "2018-03-19    1120.176207\n",
       "2018-03-20    1119.886408\n",
       "2018-03-21    1119.482208\n",
       "2018-03-22    1118.289408\n",
       "2018-03-23    1116.617609\n",
       "2018-03-26    1115.458407\n",
       "2018-03-27    1112.984207\n",
       "2018-03-28    1110.473807\n",
       "2018-03-29    1108.434608\n",
       "2018-04-02    1105.967809\n",
       "2018-04-03    1103.471409\n",
       "2018-04-04    1100.782407\n",
       "2018-04-05    1097.911807\n",
       "2018-04-06    1094.685006\n",
       "2018-04-09    1091.444006\n",
       "2018-04-10    1088.422805\n",
       "2018-04-11    1085.194407\n",
       "2018-04-12    1082.392808\n",
       "2018-04-13    1079.469209\n",
       "Name: Close, Length: 3437, dtype: float64"
      ]
     },
     "execution_count": 18,
     "metadata": {},
     "output_type": "execute_result"
    }
   ],
   "source": [
    "rol.mean()"
   ]
  },
  {
   "cell_type": "markdown",
   "metadata": {},
   "source": [
    "<b>Question 5</b><br/>\n",
    "Consider this investment strategy: buy on day x and then sell after 5 days (on day x+5). Find the expected profit (in %) of this operation. <i>Hint</i>: explore the method <i>shift</i>"
   ]
  },
  {
   "cell_type": "code",
   "execution_count": 9,
   "metadata": {},
   "outputs": [
    {
     "data": {
      "text/plain": [
       "Date\n",
       "2004-08-19    50.220219\n",
       "2004-08-20    54.209209\n",
       "2004-08-23    54.754753\n",
       "2004-08-24    52.487488\n",
       "2004-08-25    53.053055\n",
       "Name: Close, dtype: float64"
      ]
     },
     "execution_count": 9,
     "metadata": {},
     "output_type": "execute_result"
    }
   ],
   "source": [
    "stock.head()"
   ]
  },
  {
   "cell_type": "code",
   "execution_count": 8,
   "metadata": {},
   "outputs": [
    {
     "data": {
      "text/plain": [
       "Date\n",
       "2004-08-19    54.209209\n",
       "2004-08-20    54.754753\n",
       "2004-08-23    52.487488\n",
       "2004-08-24    53.053055\n",
       "2004-08-25    54.009010\n",
       "Name: Close, dtype: float64"
      ]
     },
     "execution_count": 8,
     "metadata": {},
     "output_type": "execute_result"
    }
   ],
   "source": [
    "stock.shift(-1).head()"
   ]
  },
  {
   "cell_type": "code",
   "execution_count": 21,
   "metadata": {},
   "outputs": [
    {
     "data": {
      "text/plain": [
       "Date\n",
       "2004-08-19    50.220219\n",
       "2004-08-20    54.209209\n",
       "2004-08-23    54.754753\n",
       "2004-08-24    52.487488\n",
       "2004-08-25    53.053055\n",
       "2004-08-26    54.009010\n",
       "Name: Close, dtype: float64"
      ]
     },
     "execution_count": 21,
     "metadata": {},
     "output_type": "execute_result"
    }
   ],
   "source": [
    "stock.head(6)"
   ]
  },
  {
   "cell_type": "code",
   "execution_count": 22,
   "metadata": {},
   "outputs": [
    {
     "data": {
      "text/plain": [
       "Date\n",
       "2004-08-19    54.00901\n",
       "Name: Close, dtype: float64"
      ]
     },
     "execution_count": 22,
     "metadata": {},
     "output_type": "execute_result"
    }
   ],
   "source": [
    "stock.shift(-5)[:1]"
   ]
  },
  {
   "cell_type": "code",
   "execution_count": 23,
   "metadata": {},
   "outputs": [],
   "source": [
    "futurePrices = stock.shift(-5)"
   ]
  },
  {
   "cell_type": "code",
   "execution_count": 24,
   "metadata": {},
   "outputs": [],
   "source": [
    "profits = (futurePrices - stock) / stock"
   ]
  },
  {
   "cell_type": "code",
   "execution_count": 25,
   "metadata": {},
   "outputs": [
    {
     "data": {
      "text/plain": [
       "0.0052651651655750125"
      ]
     },
     "execution_count": 25,
     "metadata": {},
     "output_type": "execute_result"
    }
   ],
   "source": [
    "profits.mean()"
   ]
  },
  {
   "cell_type": "code",
   "execution_count": 26,
   "metadata": {},
   "outputs": [
    {
     "data": {
      "text/plain": [
       "count    3432.000000\n",
       "mean        0.005265\n",
       "std         0.043459\n",
       "min        -0.178787\n",
       "25%        -0.017746\n",
       "50%         0.005790\n",
       "75%         0.026873\n",
       "max         0.323724\n",
       "Name: Close, dtype: float64"
      ]
     },
     "execution_count": 26,
     "metadata": {},
     "output_type": "execute_result"
    }
   ],
   "source": [
    "profits.describe()"
   ]
  },
  {
   "cell_type": "markdown",
   "metadata": {},
   "source": [
    "So what exactly profit average 0.005267 means ?  Assuming invest $100 on day 1. "
   ]
  },
  {
   "cell_type": "code",
   "execution_count": 27,
   "metadata": {},
   "outputs": [
    {
     "data": {
      "text/plain": [
       "1804.4741999999999"
      ]
     },
     "execution_count": 27,
     "metadata": {},
     "output_type": "execute_result"
    }
   ],
   "source": [
    "100 * 0.005267 * 3426"
   ]
  },
  {
   "cell_type": "markdown",
   "metadata": {},
   "source": [
    "<b>Question 6</b><br/>\n",
    "Consider this investment strategy: buy whenever the price goes above the 20-day moving average, and then sell after 5 trading sessions. How much profit (in %) would we make on average?"
   ]
  },
  {
   "cell_type": "code",
   "execution_count": 28,
   "metadata": {},
   "outputs": [],
   "source": [
    "movavg = stock.rolling(20).mean()"
   ]
  },
  {
   "cell_type": "code",
   "execution_count": 29,
   "metadata": {},
   "outputs": [],
   "source": [
    "profit = (stock.shift(-5) - stock) / stock"
   ]
  },
  {
   "cell_type": "code",
   "execution_count": 30,
   "metadata": {},
   "outputs": [
    {
     "data": {
      "text/plain": [
       "0.0059468707690609746"
      ]
     },
     "execution_count": 30,
     "metadata": {},
     "output_type": "execute_result"
    }
   ],
   "source": [
    "profit[stock > movavg].mean()"
   ]
  },
  {
   "cell_type": "code",
   "execution_count": 31,
   "metadata": {},
   "outputs": [
    {
     "data": {
      "text/plain": [
       "2007"
      ]
     },
     "execution_count": 31,
     "metadata": {},
     "output_type": "execute_result"
    }
   ],
   "source": [
    "len(profit[stock > movavg])"
   ]
  },
  {
   "cell_type": "markdown",
   "metadata": {},
   "source": [
    "With the same $100.00 to start with, we get the profit ..."
   ]
  },
  {
   "cell_type": "code",
   "execution_count": 32,
   "metadata": {},
   "outputs": [
    {
     "data": {
      "text/plain": [
       "1193.5369633505377"
      ]
     },
     "execution_count": 32,
     "metadata": {},
     "output_type": "execute_result"
    }
   ],
   "source": [
    "100 * 0.0059468707690609746 * 2007"
   ]
  },
  {
   "cell_type": "markdown",
   "metadata": {},
   "source": [
    "## Median prices of single family homes in zip code 95050"
   ]
  },
  {
   "cell_type": "markdown",
   "metadata": {},
   "source": [
    "The file <i>santaclara_sfh.csv</i> was downloaded from <a href= 'http://redfin.com'>redfin.com</a>. For each end of month day, this file reports the median price of a single family home (sfh) in zip code 95050 over the previous 3 months. The data starts from 2012-01-31 and ends on 2018-02-28."
   ]
  },
  {
   "cell_type": "markdown",
   "metadata": {},
   "source": [
    "The following code loads and cleans the data set <i>santaclara_sfh.csv</i>, which you should copy into the same folder as this Jupyter notebook. For the moment, do not worry about understanding the code."
   ]
  },
  {
   "cell_type": "code",
   "execution_count": 13,
   "metadata": {},
   "outputs": [],
   "source": [
    "# don't worry about understanding this code\n",
    "df = pd.read_csv('santaclara_sfh.csv')\n",
    "df['date'] = pd.to_datetime(df.date) # make the date column of type datetime\n",
    "df['median_sfh_price_past_3_months'] = df.median_sfh_price_past_3_months + 0.0 # make the price column of type float\n",
    "df.set_index('date',inplace=True) # make date the index \n",
    "housing = df['median_sfh_price_past_3_months'] # take the series of median prices\n",
    "housing.name = 'housing'"
   ]
  },
  {
   "cell_type": "markdown",
   "metadata": {},
   "source": [
    "Let's take a look at the oldest prices"
   ]
  },
  {
   "cell_type": "code",
   "execution_count": 14,
   "metadata": {},
   "outputs": [
    {
     "data": {
      "text/plain": [
       "date\n",
       "2012-01-31     485000.0\n",
       "2012-02-29     528000.0\n",
       "2012-03-31     568000.0\n",
       "2012-04-30     620000.0\n",
       "2012-05-31     630000.0\n",
       "2012-06-30     673000.0\n",
       "2012-07-31     682000.0\n",
       "2012-08-31     655000.0\n",
       "2012-09-30     645000.0\n",
       "2012-10-31     673000.0\n",
       "2012-11-30     585000.0\n",
       "2012-12-31     585000.0\n",
       "2013-01-31     651000.0\n",
       "2013-02-28     705000.0\n",
       "2013-03-31     731000.0\n",
       "2013-04-30     790000.0\n",
       "2013-05-31     815000.0\n",
       "2013-06-30     800000.0\n",
       "2013-07-31     835000.0\n",
       "2013-08-31     800000.0\n",
       "2013-09-30     767000.0\n",
       "2013-10-31     773000.0\n",
       "2013-11-30     780000.0\n",
       "2013-12-31     760000.0\n",
       "2014-01-31     721000.0\n",
       "2014-02-28     800000.0\n",
       "2014-03-31     859000.0\n",
       "2014-04-30     890000.0\n",
       "2014-05-31     875000.0\n",
       "2014-06-30     900000.0\n",
       "                ...    \n",
       "2015-09-30     960000.0\n",
       "2015-10-31     940000.0\n",
       "2015-11-30     960000.0\n",
       "2015-12-31     910000.0\n",
       "2016-01-31     895000.0\n",
       "2016-02-29     945000.0\n",
       "2016-03-31    1058000.0\n",
       "2016-04-30    1080000.0\n",
       "2016-05-31    1100000.0\n",
       "2016-06-30    1035000.0\n",
       "2016-07-31    1045000.0\n",
       "2016-08-31     970000.0\n",
       "2016-09-30     997000.0\n",
       "2016-10-31    1040000.0\n",
       "2016-11-30    1009000.0\n",
       "2016-12-31     957000.0\n",
       "2017-01-31     926000.0\n",
       "2017-02-28    1082000.0\n",
       "2017-03-31    1130000.0\n",
       "2017-04-30    1160000.0\n",
       "2017-05-31    1195000.0\n",
       "2017-06-30    1200000.0\n",
       "2017-07-31    1160000.0\n",
       "2017-08-31    1150000.0\n",
       "2017-09-30    1153000.0\n",
       "2017-10-31    1250000.0\n",
       "2017-11-30    1280000.0\n",
       "2017-12-31    1284000.0\n",
       "2018-01-31    1157000.0\n",
       "2018-02-28    1381000.0\n",
       "Name: housing, Length: 74, dtype: float64"
      ]
     },
     "execution_count": 14,
     "metadata": {},
     "output_type": "execute_result"
    }
   ],
   "source": [
    "housing"
   ]
  },
  {
   "cell_type": "markdown",
   "metadata": {},
   "source": [
    "Remember that each price is the median over the previous three months. So, for example, the median sale price in the period from 2012-02-01 to 2012-04-30 was $520,000. Let's plot it."
   ]
  },
  {
   "cell_type": "code",
   "execution_count": 35,
   "metadata": {},
   "outputs": [
    {
     "data": {
      "text/plain": [
       "<matplotlib.axes._subplots.AxesSubplot at 0x11f169fd0>"
      ]
     },
     "execution_count": 35,
     "metadata": {},
     "output_type": "execute_result"
    },
    {
     "data": {
      "image/png": "[encoded data removed]",
      "text/plain": [
       "<matplotlib.figure.Figure at 0x11f155eb8>"
      ]
     },
     "metadata": {},
     "output_type": "display_data"
    }
   ],
   "source": [
    "housing.plot()"
   ]
  },
  {
   "cell_type": "markdown",
   "metadata": {},
   "source": [
    "## Are housing prices correlated to stock prices?"
   ]
  },
  {
   "cell_type": "markdown",
   "metadata": {},
   "source": [
    "<p>To anwer this question, we first need to align the two Series. The Series <i>housing</i> has one entry for each ending day of each month and a value that is the 3-month moving average; the series <i>stock</i> has one entry for each <b>trading day</b> and the value that is the closing price. </p>\n",
    "<p>To align the two Series, we will create a new Series of stock prices that has only one entry for every month-end-day and reports the 3-month moving median price of the stock</p>"
   ]
  },
  {
   "cell_type": "markdown",
   "metadata": {},
   "source": [
    "<p>We will do the following:\n",
    "<ol>\n",
    "<li>Pad <i>stock</i> so that there are no missing days (currently, holidays are missing)\n",
    "<li>Compute the 3-month moving median of <i>stock</i>\n",
    "<li>Retain only the end-of-month days in <i>stock</i>\n",
    "</ol>\n",
    "</p>\n"
   ]
  },
  {
   "cell_type": "markdown",
   "metadata": {},
   "source": [
    "#### Step #1: Pad stock so that there are no missing days (currently, holidays are missing)"
   ]
  },
  {
   "cell_type": "code",
   "execution_count": 36,
   "metadata": {
    "scrolled": true
   },
   "outputs": [],
   "source": [
    "padded = stock.asfreq(freq='1D', method='ffill')"
   ]
  },
  {
   "cell_type": "code",
   "execution_count": 37,
   "metadata": {},
   "outputs": [
    {
     "data": {
      "text/plain": [
       "Date\n",
       "2004-08-19    50.220219\n",
       "2004-08-20    54.209209\n",
       "2004-08-23    54.754753\n",
       "2004-08-24    52.487488\n",
       "2004-08-25    53.053055\n",
       "2004-08-26    54.009010\n",
       "2004-08-27    53.128128\n",
       "2004-08-30    51.056057\n",
       "2004-08-31    51.236237\n",
       "2004-09-01    50.175175\n",
       "Name: Close, dtype: float64"
      ]
     },
     "execution_count": 37,
     "metadata": {},
     "output_type": "execute_result"
    }
   ],
   "source": [
    "stock[:10]"
   ]
  },
  {
   "cell_type": "code",
   "execution_count": 58,
   "metadata": {},
   "outputs": [
    {
     "data": {
      "text/plain": [
       "Date\n",
       "2004-08-19    50.220219\n",
       "2004-08-20    54.209209\n",
       "2004-08-21    54.209209\n",
       "2004-08-22    54.209209\n",
       "2004-08-23    54.754753\n",
       "2004-08-24    52.487488\n",
       "2004-08-25    53.053055\n",
       "2004-08-26    54.009010\n",
       "2004-08-27    53.128128\n",
       "2004-08-28    53.128128\n",
       "2004-08-29    53.128128\n",
       "2004-08-30    51.056057\n",
       "2004-08-31    51.236237\n",
       "2004-09-01    50.175175\n",
       "2004-09-02    50.805805\n",
       "2004-09-03    50.055054\n",
       "2004-09-04    50.055054\n",
       "2004-09-05    50.055054\n",
       "2004-09-06    50.055054\n",
       "2004-09-07    50.840839\n",
       "Freq: D, Name: Close, dtype: float64"
      ]
     },
     "execution_count": 58,
     "metadata": {},
     "output_type": "execute_result"
    }
   ],
   "source": [
    "padded[:20]"
   ]
  },
  {
   "cell_type": "markdown",
   "metadata": {},
   "source": [
    "#### Step #2: Compute the 90-day moving average of stock"
   ]
  },
  {
   "cell_type": "code",
   "execution_count": 38,
   "metadata": {},
   "outputs": [],
   "source": [
    "movmed = padded.rolling(90).median()"
   ]
  },
  {
   "cell_type": "code",
   "execution_count": 39,
   "metadata": {},
   "outputs": [
    {
     "data": {
      "text/plain": [
       "Date\n",
       "2004-11-07          NaN\n",
       "2004-11-08          NaN\n",
       "2004-11-09          NaN\n",
       "2004-11-10          NaN\n",
       "2004-11-11          NaN\n",
       "2004-11-12          NaN\n",
       "2004-11-13          NaN\n",
       "2004-11-14          NaN\n",
       "2004-11-15          NaN\n",
       "2004-11-16    66.356354\n",
       "2004-11-17    66.976975\n",
       "2004-11-18    67.647648\n",
       "2004-11-19    68.153156\n",
       "2004-11-20    68.688690\n",
       "2004-11-21    68.851353\n",
       "2004-11-22    68.933937\n",
       "2004-11-23    68.933937\n",
       "2004-11-24    69.094097\n",
       "2004-11-25    69.374375\n",
       "2004-11-26    69.904904\n",
       "Freq: D, Name: Close, dtype: float64"
      ]
     },
     "execution_count": 39,
     "metadata": {},
     "output_type": "execute_result"
    }
   ],
   "source": [
    "movmed[80:100]"
   ]
  },
  {
   "cell_type": "markdown",
   "metadata": {},
   "source": [
    "#### Step #3: Retain the same days as in the housing Series"
   ]
  },
  {
   "cell_type": "code",
   "execution_count": 40,
   "metadata": {},
   "outputs": [
    {
     "data": {
      "text/plain": [
       "DatetimeIndex(['2012-01-31', '2012-02-29', '2012-03-31', '2012-04-30',\n",
       "               '2012-05-31', '2012-06-30', '2012-07-31', '2012-08-31',\n",
       "               '2012-09-30', '2012-10-31'],\n",
       "              dtype='datetime64[ns]', name='date', freq=None)"
      ]
     },
     "execution_count": 40,
     "metadata": {},
     "output_type": "execute_result"
    }
   ],
   "source": [
    "housing.index[:10]"
   ]
  },
  {
   "cell_type": "code",
   "execution_count": 41,
   "metadata": {},
   "outputs": [],
   "source": [
    "mod_stock = movmed[housing.index]"
   ]
  },
  {
   "cell_type": "code",
   "execution_count": 42,
   "metadata": {},
   "outputs": [
    {
     "data": {
      "text/plain": [
       "date\n",
       "2012-01-31    310.490479\n",
       "2012-02-29    310.490479\n",
       "2012-03-31    306.856857\n",
       "2012-04-30    307.369873\n",
       "2012-05-31    306.919419\n",
       "2012-06-30    300.225219\n",
       "2012-07-31    293.290802\n",
       "2012-08-31    295.518006\n",
       "2012-09-30    335.017517\n",
       "2012-10-31    342.887878\n",
       "Name: Close, dtype: float64"
      ]
     },
     "execution_count": 42,
     "metadata": {},
     "output_type": "execute_result"
    }
   ],
   "source": [
    "mod_stock[:10]"
   ]
  },
  {
   "cell_type": "markdown",
   "metadata": {},
   "source": [
    "### Compute correlation"
   ]
  },
  {
   "cell_type": "markdown",
   "metadata": {},
   "source": [
    "Are stock and housing prices correlated?"
   ]
  },
  {
   "cell_type": "code",
   "execution_count": 43,
   "metadata": {},
   "outputs": [
    {
     "data": {
      "text/plain": [
       "0.9396165875746135"
      ]
     },
     "execution_count": 43,
     "metadata": {},
     "output_type": "execute_result"
    }
   ],
   "source": [
    "housing.corr(mod_stock)"
   ]
  },
  {
   "cell_type": "markdown",
   "metadata": {},
   "source": [
    "Uh... yes, they are strongly correlated"
   ]
  },
  {
   "cell_type": "markdown",
   "metadata": {},
   "source": [
    "Let's plot them"
   ]
  },
  {
   "cell_type": "code",
   "execution_count": 44,
   "metadata": {},
   "outputs": [
    {
     "data": {
      "image/png": "[encoded data removed]",
      "text/plain": [
       "<matplotlib.figure.Figure at 0x11f1e7a20>"
      ]
     },
     "metadata": {},
     "output_type": "display_data"
    }
   ],
   "source": [
    "import matplotlib.pyplot as plt\n",
    "\n",
    "plt.plot(mod_stock,'b')  # b for \"blue\"\n",
    "plt.plot(housing,'r') # r for \"red\" \n",
    "plt.legend(loc=2)\n",
    "plt.show()"
   ]
  },
  {
   "cell_type": "markdown",
   "metadata": {},
   "source": [
    "mmm... the problem is that the two scales are very different: housing is about 1M dollars while the stock price is in the order of hundreds of dollars. "
   ]
  },
  {
   "cell_type": "markdown",
   "metadata": {},
   "source": [
    "Let's normalize them so that the value on the first day (2012-01-31) is 1 for both series."
   ]
  },
  {
   "cell_type": "code",
   "execution_count": 45,
   "metadata": {},
   "outputs": [],
   "source": [
    "norm_stock = mod_stock / mod_stock[0]"
   ]
  },
  {
   "cell_type": "code",
   "execution_count": 46,
   "metadata": {},
   "outputs": [],
   "source": [
    "norm_housing = housing / housing.iloc[0]"
   ]
  },
  {
   "cell_type": "code",
   "execution_count": 47,
   "metadata": {},
   "outputs": [
    {
     "data": {
      "image/png": "[encoded data removed]",
      "text/plain": [
       "<matplotlib.figure.Figure at 0x11f2514a8>"
      ]
     },
     "metadata": {},
     "output_type": "display_data"
    }
   ],
   "source": [
    "import matplotlib.pyplot as plt\n",
    "plt.plot(norm_stock,'b')  # b for \"blue\"\n",
    "plt.plot(norm_housing,'r') # r for \"red\" \n",
    "plt.legend(loc=2)\n",
    "plt.show()"
   ]
  },
  {
   "cell_type": "markdown",
   "metadata": {},
   "source": [
    "Assign a name for the plot legend for stock (instead of column name 'Close')"
   ]
  },
  {
   "cell_type": "code",
   "execution_count": 48,
   "metadata": {},
   "outputs": [],
   "source": [
    "norm_stock.name = 'stock'"
   ]
  },
  {
   "cell_type": "code",
   "execution_count": 49,
   "metadata": {},
   "outputs": [
    {
     "data": {
      "image/png": "[encoded data removed]",
      "text/plain": [
       "<matplotlib.figure.Figure at 0x11f32b940>"
      ]
     },
     "metadata": {},
     "output_type": "display_data"
    }
   ],
   "source": [
    "plt.plot(norm_stock,'b')  # b for \"blue\"\n",
    "plt.plot(norm_housing,'r') # r for \"red\" \n",
    "plt.legend(loc=2)\n",
    "plt.show()"
   ]
  },
  {
   "cell_type": "code",
   "execution_count": null,
   "metadata": {},
   "outputs": [],
   "source": []
  }
 ],
 "metadata": {
  "kernelspec": {
   "display_name": "Python 3",
   "language": "python",
   "name": "python3"
  },
  "language_info": {
   "codemirror_mode": {
    "name": "ipython",
    "version": 3
   },
   "file_extension": ".py",
   "mimetype": "text/x-python",
   "name": "python",
   "nbconvert_exporter": "python",
   "pygments_lexer": "ipython3",
   "version": "3.6.5"
  }
 },
 "nbformat": 4,
 "nbformat_minor": 1
}
